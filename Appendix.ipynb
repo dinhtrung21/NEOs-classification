{
 "cells": [
  {
   "cell_type": "markdown",
   "id": "4e055ce0",
   "metadata": {},
   "source": [
    "# Introduction\n",
    "This part of the report include the Python implementation of the Machine Learning methods discussed above. Parts of the codes are distributed as materials in CS-C3240 Machine Learning course at Aalto University, and the student project _Stellar classification with logistic regression_. The appendix will cover the codes for preprocessing the dataframe, visualizing the features and data, creating the validation dataset and building the models. Below is the importation of the libraries neccessary for the project."
   ]
  },
  {
   "cell_type": "code",
   "execution_count": 1,
   "id": "e11e7c8a",
   "metadata": {},
   "outputs": [],
   "source": [
    "%config Completer.use_jedi = False  # enable code auto-completion\n",
    "\n",
    "import numpy as np\n",
    "import pandas as pd\n",
    "import matplotlib.pyplot as plt\n",
    "import seaborn as sns  #data visualization library\n",
    "from sklearn.linear_model import LogisticRegression\n",
    "from sklearn.metrics import accuracy_score, mean_squared_error  # evaluation metrics\n",
    "\n",
    "from sklearn.model_selection import KFold\n",
    "from sklearn import preprocessing\n",
    "from sklearn.preprocessing import PolynomialFeatures # function to generate polynomial and interaction features\n",
    "from sklearn.neural_network import MLPRegressor"
   ]
  },
  {
   "cell_type": "markdown",
   "id": "4ae9ac2c",
   "metadata": {},
   "source": [
    "# Preprocessing and Visualization of The Dataset\n",
    "In this part we will first import the dataset containing the NEOs and its features to the code. Preprocessing includes dropping irrelevant features and create a new _average diameter_ feature subtitute for the other two diameter features. The first 5 datapoints of the new dataframe is printed below."
   ]
  },
  {
   "cell_type": "code",
   "execution_count": 2,
   "id": "208defd9",
   "metadata": {},
   "outputs": [
    {
     "data": {
      "text/html": [
       "<div>\n",
       "<style scoped>\n",
       "    .dataframe tbody tr th:only-of-type {\n",
       "        vertical-align: middle;\n",
       "    }\n",
       "\n",
       "    .dataframe tbody tr th {\n",
       "        vertical-align: top;\n",
       "    }\n",
       "\n",
       "    .dataframe thead th {\n",
       "        text-align: right;\n",
       "    }\n",
       "</style>\n",
       "<table border=\"1\" class=\"dataframe\">\n",
       "  <thead>\n",
       "    <tr style=\"text-align: right;\">\n",
       "      <th></th>\n",
       "      <th>Luminosity</th>\n",
       "      <th>Harzadous</th>\n",
       "      <th>Diameter_avg</th>\n",
       "    </tr>\n",
       "  </thead>\n",
       "  <tbody>\n",
       "    <tr>\n",
       "      <th>0</th>\n",
       "      <td>16.73</td>\n",
       "      <td>False</td>\n",
       "      <td>1.938843</td>\n",
       "    </tr>\n",
       "    <tr>\n",
       "      <th>1</th>\n",
       "      <td>20.00</td>\n",
       "      <td>True</td>\n",
       "      <td>0.430073</td>\n",
       "    </tr>\n",
       "    <tr>\n",
       "      <th>2</th>\n",
       "      <td>17.83</td>\n",
       "      <td>False</td>\n",
       "      <td>1.168268</td>\n",
       "    </tr>\n",
       "    <tr>\n",
       "      <th>3</th>\n",
       "      <td>22.20</td>\n",
       "      <td>False</td>\n",
       "      <td>0.156150</td>\n",
       "    </tr>\n",
       "    <tr>\n",
       "      <th>4</th>\n",
       "      <td>20.09</td>\n",
       "      <td>True</td>\n",
       "      <td>0.412613</td>\n",
       "    </tr>\n",
       "  </tbody>\n",
       "</table>\n",
       "</div>"
      ],
      "text/plain": [
       "   Luminosity  Harzadous  Diameter_avg\n",
       "0       16.73      False      1.938843\n",
       "1       20.00       True      0.430073\n",
       "2       17.83      False      1.168268\n",
       "3       22.20      False      0.156150\n",
       "4       20.09       True      0.412613"
      ]
     },
     "execution_count": 2,
     "metadata": {},
     "output_type": "execute_result"
    }
   ],
   "source": [
    "# Read in the data stored in the file 'neo_v2.csv'\n",
    "# Clean the dataframe and modify into necessary features\n",
    "\n",
    "df = pd.read_csv('neo_v2.csv')\n",
    "df.drop(columns=['id','name','relative_velocity','miss_distance','orbiting_body','sentry_object'],inplace=True)  # drop irrelevant columns\n",
    "\n",
    "df.columns =['minDiameter','maxDiameter','Luminosity','Harzadous'] # rename columns \n",
    "\n",
    "# Replace the minimum and maximum size with a new feature: average size\n",
    "# Drop all datapoints with invalid features\n",
    "df=df.dropna(axis=0)\n",
    "data = df.assign(Diameter_avg = (df[\"minDiameter\"] + df[\"maxDiameter\"]) / 2)\n",
    "data = data.drop(['minDiameter','maxDiameter'],axis=1)\n",
    "data.head(5)"
   ]
  },
  {
   "cell_type": "markdown",
   "id": "6c48b2c3",
   "metadata": {},
   "source": [
    "We can justify by visualization that the average diameter is determined correctly as the relationship between minimum and maximum diameter is linear, hence the average is arithmetical. We also have the distribution of NEOs based on their average diameter and intrinsic luminosity below."
   ]
  },
  {
   "cell_type": "code",
   "execution_count": 3,
   "id": "321266c2",
   "metadata": {},
   "outputs": [
    {
     "data": {
      "text/plain": [
       "Text(0.5, 1.0, 'Distribution of NEOs')"
      ]
     },
     "execution_count": 3,
     "metadata": {},
     "output_type": "execute_result"
    },
    {
     "data": {
      "image/png": "[encoded data removed]",
      "text/plain": [
       "<Figure size 1080x288 with 2 Axes>"
      ]
     },
     "metadata": {
      "needs_background": "light"
     },
     "output_type": "display_data"
    }
   ],
   "source": [
    "fig, axes = plt.subplots(1, 2, figsize=(15,4))\n",
    "\n",
    "axes[0].scatter(df['minDiameter'],df['maxDiameter']);\n",
    "axes[0].set_xlabel(\"Minimum Diameter\")\n",
    "axes[0].set_ylabel(\"Maximum Diameter\")\n",
    "axes[0].set_title(\"Linear Relationship Between Minimum and Maximum Diameter\")\n",
    "\n",
    "axes[1].scatter(data['Diameter_avg'],data['Luminosity']);\n",
    "axes[1].set_xlabel(\"Average Diameter\")\n",
    "axes[1].set_ylabel(\"Intrinsic Luminosity\")\n",
    "axes[1].set_title(\"Distribution of NEOs\")"
   ]
  },
  {
   "cell_type": "markdown",
   "id": "a92d5c65",
   "metadata": {},
   "source": [
    "Since the dataframe is imbalanced, we create a new dataframe with the ratio of the label approximately 1:1. The next step is to change the Boolean type into integer (True = 1, False = 0) and separate the labels from the feature."
   ]
  },
  {
   "cell_type": "code",
   "execution_count": 4,
   "id": "52065907",
   "metadata": {},
   "outputs": [],
   "source": [
    "# New dataframe with a 1:1 ratio of the label\n",
    "df1 = data[data['Harzadous'] == True]\n",
    "df0 = data[data['Harzadous'] == False].sample(frac=0.10)\n",
    "frames = [df1, df0]\n",
    "data = pd.concat(frames)\n",
    "\n",
    "# Change the label from Boolean to Int (True = 1, False = 0)\n",
    "y = data['Harzadous'].astype(int)\n",
    "y = np.array(y)\n",
    "\n",
    "# Separate the label and the feature\n",
    "data.drop(columns=['Harzadous'],inplace=True)\n",
    "X = data.to_numpy().reshape(17040, -1)"
   ]
  },
  {
   "cell_type": "markdown",
   "id": "dfec227b",
   "metadata": {},
   "source": [
    "From the new dataset we can visualize the distribution of the harzadous NEOs as below."
   ]
  },
  {
   "cell_type": "code",
   "execution_count": 5,
   "id": "6d04e202",
   "metadata": {},
   "outputs": [
    {
     "data": {
      "image/png": "[encoded data removed]",
      "text/plain": [
       "<Figure size 432x288 with 1 Axes>"
      ]
     },
     "metadata": {
      "needs_background": "light"
     },
     "output_type": "display_data"
    }
   ],
   "source": [
    "# plot results\n",
    "fig, ax = plt.subplots()\n",
    "ax.set_xlabel(\"Average Diameter\")\n",
    "ax.set_ylabel(\"Intrinsic Luminosity\")\n",
    "ax.set_title(\"Harzadous distribution of NEOs\")\n",
    "ax.scatter(df0['Diameter_avg'],df0['Luminosity'],s=50,c=\"green\",label=\"non-harzadous NEOs\") \n",
    "ax.scatter(df1['Diameter_avg'],df1['Luminosity'],s=5,c=\"r\",label=\"harzadous NEOs\")\n",
    "ax.legend()\n",
    "plt.show()"
   ]
  },
  {
   "cell_type": "markdown",
   "id": "cee9e3ad",
   "metadata": {},
   "source": [
    "## Determination of the Validation Method\n",
    "In this project, we determine the training and validation set by using k-fold Cross-validation. In regard of the size of the data and running time, _k = 5_ is a reasonable choice with a seed of _seed = 4_."
   ]
  },
  {
   "cell_type": "code",
   "execution_count": 6,
   "id": "fb3a04fe",
   "metadata": {},
   "outputs": [],
   "source": [
    "#define k-fold\n",
    "k = 5\n",
    "shuffle = True\n",
    "seed = 4\n",
    "kfold = KFold(n_splits=k, shuffle=shuffle, random_state=seed)"
   ]
  },
  {
   "cell_type": "markdown",
   "id": "794be942",
   "metadata": {},
   "source": [
    "# Implementation of the Machine Learning Methods\n",
    "## Linear Regression and Polynomial Logistic Regression model\n",
    "First we consider a classic _Linear Regression model_: the model is built using the training sets, and the accuracy of the validation sets are recorded. We create arrays to record the training and validation errors at each fold, and the mean error and mean accuracy is reported at the end of the model."
   ]
  },
  {
   "cell_type": "code",
   "execution_count": 7,
   "id": "11cf8516",
   "metadata": {},
   "outputs": [
    {
     "name": "stdout",
     "output_type": "stream",
     "text": [
      "Logistic regression model:\n",
      "Average training error :  0.1307511737089202\n",
      "Average validation error :  0.13075117370892014\n",
      "Average validation accuracy :  0.8692488262910798\n"
     ]
    }
   ],
   "source": [
    "tr_errors1 = [] #k different errors\n",
    "val_errors1 = []\n",
    "average_val_accuracy1 = 0\n",
    "\n",
    "#go though all folds\n",
    "for (train_index, val_index) in kfold.split(X):\n",
    "    #split into training and validation sets\n",
    "    X_train, y_train, X_val, y_val = X[train_index], y[train_index], X[val_index], y[val_index]\n",
    "    #Linear Regression model\n",
    "    clf = LogisticRegression()\n",
    "    clf.fit(X_train, y_train)\n",
    "    y_pred_train = clf.predict(X_train)\n",
    "    accuracy_train = accuracy_score(y_train, y_pred_train)\n",
    "    #validation\n",
    "    y_pred_val = clf.predict(X_val)\n",
    "    accuracy_val = accuracy_score(y_val, y_pred_val)\n",
    "    average_val_accuracy1 += accuracy_val\n",
    "    #calculate the errors\n",
    "    tr_error = mean_squared_error(y_train, y_pred_train)\n",
    "    val_error = mean_squared_error(y_val, y_pred_val)\n",
    "    #save errors\n",
    "    tr_errors1.append(tr_error)\n",
    "    val_errors1.append(val_error)\n",
    "#scores\n",
    "average_train_error1 = np.mean(tr_errors1)\n",
    "average_val_error1 = np.mean(val_errors1)\n",
    "print(\"Logistic regression model:\")\n",
    "print(\"Average training error : \", average_train_error1)\n",
    "print(\"Average validation error : \", average_val_error1)\n",
    "print(\"Average validation accuracy : \", average_val_accuracy1/5)"
   ]
  },
  {
   "cell_type": "markdown",
   "id": "34126f07",
   "metadata": {},
   "source": [
    "We can fine-tune this method by letting the hypothesis space a polynomials of degree 2 and apply _Polynomial Logistic Regression model_ using polynomial features generator and standard scalar. The mean error and mean accuracy is reported at the end of the model, and we can see that the accuracy is improved by 0.06%."
   ]
  },
  {
   "cell_type": "code",
   "execution_count": 8,
   "id": "def57084",
   "metadata": {},
   "outputs": [
    {
     "name": "stdout",
     "output_type": "stream",
     "text": [
      "Polynomial logistic regression model:\n",
      "Average training error :  0.12607100938967136\n",
      "Average validation error :  0.13022300469483566\n",
      "Average validation accuracy :  0.8697769953051644\n"
     ]
    }
   ],
   "source": [
    "tr_errors2 = [] #k different errors\n",
    "val_errors2 = []\n",
    "average_val_accuracy2 = 0\n",
    "\n",
    "for (train_index, val_index) in kfold.split(X):\n",
    "    #split into training and validation sets\n",
    "    X_train, y_train, X_val, y_val = X[train_index], y[train_index], X[val_index], y[val_index]\n",
    "    #Polynomial Logistic Regression model\n",
    "    log_regr = LogisticRegression()\n",
    "    poly = PolynomialFeatures(degree=2)    # generate polynomial features\n",
    "    X_train_poly = poly.fit_transform(X_train)    # fit the raw features\n",
    "    scaler = preprocessing.StandardScaler().fit(X_train_poly)\n",
    "    X_train_poly = scaler.transform(X_train_poly) #scale the transformed features\n",
    "    log_regr.fit(X_train_poly, y_train)    # apply logistics regression to these new features and labels\n",
    "    y_pred_train = log_regr.predict(X_train_poly)\n",
    "    accuracy_train = accuracy_score(y_train, y_pred_train)\n",
    "\n",
    "    #validation\n",
    "    X_val_poly = poly.fit_transform(X_val)\n",
    "    scaler = preprocessing.StandardScaler().fit(X_val_poly)\n",
    "    X_val_poly = scaler.transform(X_val_poly)\n",
    "    y_pred_val = log_regr.predict(X_val_poly)\n",
    "    accuracy_val = accuracy_score(y_val, y_pred_val)\n",
    "    average_val_accuracy2 += accuracy_val\n",
    "    #calculate the errors\n",
    "    tr_error = mean_squared_error(y_train, y_pred_train)\n",
    "    val_error = mean_squared_error(y_val, y_pred_val)\n",
    "    #save errors\n",
    "    tr_errors1.append(tr_error)\n",
    "    val_errors1.append(val_error)\n",
    " \n",
    "    tr_errors2.append(tr_error)\n",
    "    val_errors2.append(val_error)\n",
    "\n",
    "average_train_error2 = np.mean(tr_errors2)\n",
    "average_val_error2 = np.mean(val_errors2)\n",
    "print(\"Polynomial logistic regression model:\")\n",
    "print(\"Average training error : \", average_train_error2)\n",
    "print(\"Average validation error : \", average_val_error2)\n",
    "print(\"Average validation accuracy : \", average_val_accuracy2/5)"
   ]
  },
  {
   "cell_type": "markdown",
   "id": "70f58b83",
   "metadata": {},
   "source": [
    "## Multilayer Perceptron (MLP) model\n",
    "In this method, we apply a _Multilayer Perceptron (MLP) model_ using 5 hidden layers and 15 neurons in each of the layer. The mean error is reported at the end of the model, and the mean accuracy is calculated implicitly from the errors."
   ]
  },
  {
   "cell_type": "code",
   "execution_count": 10,
   "id": "8f2a9307",
   "metadata": {},
   "outputs": [
    {
     "name": "stdout",
     "output_type": "stream",
     "text": [
      "MLP model:\n",
      "Average training error :  0.11116010217535119\n",
      "Average validation error :  0.11113014380886357\n",
      "Average validation accuracy :  0.8888698561911365\n"
     ]
    }
   ],
   "source": [
    "tr_errors3 = []\n",
    "val_errors3 = []\n",
    "\n",
    "num_layers = 5    # number of hidden layers\n",
    "num_neurons = 15  # number of neurons in each layer\n",
    "hidden_layer_sizes = tuple([num_neurons]*num_layers) # size (num of neurons) of each layer stacked in a tuple\n",
    "\n",
    "for (train_index, val_index) in kfold.split(X):\n",
    "    #split into training and validation sets\n",
    "    X_train, y_train, X_val, y_val = X[train_index], y[train_index], X[val_index], y[val_index]\n",
    "    \n",
    "    mlp_regr = MLPRegressor(hidden_layer_sizes,max_iter=1000,random_state=42)\n",
    "    mlp_regr.fit(X_train,y_train)\n",
    "\n",
    "    ## evaluate the trained MLP on both training set and validation set\n",
    "    y_pred_train = mlp_regr.predict(X_train)    # predict on the training set\n",
    "    tr_error = mean_squared_error(y_train, y_pred_train)    # calculate the training error\n",
    "    y_pred_val = mlp_regr.predict(X_val) # predict values for the validation data \n",
    "    val_error = mean_squared_error(y_val, y_pred_val) # calculate the validation error\n",
    "    \n",
    "    tr_errors3.append(tr_error)\n",
    "    val_errors3.append(val_error)\n",
    "\n",
    "average_train_error3 = np.mean(tr_errors3)\n",
    "average_val_error3 = np.mean(val_errors3)\n",
    "print(\"MLP model:\")\n",
    "print(\"Average training error : \", average_train_error3)\n",
    "print(\"Average validation error : \", average_val_error3)\n",
    "print(\"Average validation accuracy : \", 1 - average_val_error3)"
   ]
  },
  {
   "cell_type": "markdown",
   "id": "d454967f",
   "metadata": {},
   "source": [
    "Despite longer runtime, we can see an 2.65% increase in the accuracy in the validation set compared to _Polynomial Logistic Regression model_."
   ]
  }
 ],
 "metadata": {
  "kernelspec": {
   "display_name": "Python 3",
   "language": "python",
   "name": "python3"
  },
  "language_info": {
   "codemirror_mode": {
    "name": "ipython",
    "version": 3
   },
   "file_extension": ".py",
   "mimetype": "text/x-python",
   "name": "python",
   "nbconvert_exporter": "python",
   "pygments_lexer": "ipython3",
   "version": "3.9.5"
  }
 },
 "nbformat": 4,
 "nbformat_minor": 5
}
